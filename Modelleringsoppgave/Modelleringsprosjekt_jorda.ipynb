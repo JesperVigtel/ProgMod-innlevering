{
 "cells": [
  {
   "cell_type": "markdown",
   "metadata": {},
   "source": [
    "# Modelleringsprosjekt- Temperatur på jorda\n",
    "\n",
    "Jesper Vigtel Hølland\n",
    "\n",
    "\n",
    "## 1. Hensikt\n",
    "Vi skal her utforske ulike modeller for temperaturen på jorda.\n",
    "\n",
    "### Introduksjon\n",
    "Energibalansen på jordkloden er et veldig komplekst system som er av stor interesse i klimaforskning. For å etterligne et så komplekst system er det flere tunge modeller som har blitt laget for å skape en best mulig etterligning av virkeligheten. Slike modeller brukes for å forstå klimaet og dermed også kunne forutsiklimaforandringer. Det trengs derimot ikke tunge og komplekse modeller for å kunne forstå seg på grunnprinsipper bak klimamodeller. I dette prosjektet skal dere lage en enkel modell som kalkulerer temperaturen på jordkloden, og dermed få et innblikk i klimamodellering.\n",
    "\n",
    "## 2. Teori\n",
    "Modeller er forenklede representasjoner av virkeligheten, og ingen modeller stemmer nøyaktig. Alle modeller forteller noe, men ikke alt, om et eller flere fenomener i virkeligheten. \n",
    "Temperaturmodellering kan være nyttig for å forutsi temperaturen på jorda gitt forskjellige tilfeller, slik som atmosfære, og kan vise betydningen av variasjoner i f.eks. atmosfære eller solstråling. \n",
    "\n",
    "### 2 Teori Del-2:\n",
    "Noe av teorien som er nødvendig for å løse denne oppgaven kan være ukjent for dere. Under kommer en enkel forklaring på noe av teorien dere trenger.\n",
    "\n",
    "#### 2.1 Stefan-Boltzmanns lov\n",
    "Alle gjenstander som har en temperatur over absolutt nullpunkt, vil utgi varmestråling. Varmestråling er elektromagnetisk stråling som fører varme (energi) til eller fra et system. Det er mulig å beregne varmestrålingen fra en gjenstand når man kjenner gjenstandens temperatur og areal ved å bruke Stefan-Boltzmanns naturlov.Matematisk kan denne loven skrivels $$ s = σ\\cdot T^4  $$ \n",
    "der σ er Stefan-Boltzmanns konstant og er lik 5,6703∗10−8W/(m2K4), og temperaturen T er målt i Kelvin. S vil da være lik strålingen fra et legeme gitt i W/m2, og man må tenke på arealet til legemet for å få den fullstendige strålingen.\n",
    "\n",
    "#### 2.2  Kalkulering av gjennomsnittlig elektromagnetisk stråling\n",
    "Solkonstanten er målt gjennomsnittlig elektromagnetisk stråling (energi) fra solen som treffer vertikalt på jordklodens atmosfære. Energien som treffer toppen av atmosfæren har bare variert med 0.2 prosent på 400år. Det blir derfor kalt for en konstant. Denne konstanten er målt til 1361W/m2. Det går an å kalkuleregjennomsnittlig elektromagnetisk stråling som treffer en planet ved å bruke solens varmestråling og distansen mellom solen og planeten i solsystemet. Matematisk vil det se ut: $$ S = \\frac {radius^2_{sol}}{distanse^2_{sol og planet}}∗varmestråling_{sol} $$ hvor S er den gjennomsnittlige strålingen som treffer planeten i W/m2.\n",
    "\n",
    "#### 2.3  Energiprinsippet\n",
    "Energiprinsippet er loven om at energi er konstant. Det vil si at energi ikke kan skapes eller tilintetgjøres. Viser på planeter som et lukket system som blir tilført varmestråling fra verdensrommet (hovedsakelig solen),og sender ut varmestråling til verdensrommet. Det gir tre muligheter:\n",
    "1. Mer stråling tilført enn sendt ut. Planeten varmes opp over tid.\n",
    "2. Mer stråling sendt ut enn tilført. Planeten blir kaldere over tid.\n",
    "3. Energiinn=Energiut. Temperaturen på planeten er konstant.\n",
    "\n",
    "#### 2.4  Forenklet atmosfære\n",
    "Jordkloden har en gjennomsnittlig positiv temperatur på grunn av atmosfæren. Denne temperaturen er målttil ca. 15◦C. Det vil være nødvendig å legge til et utrykk for atmosfæren for å ha en modell av jordklodensom gir temperaturverdier i nærheten av de målte verdiene. En metode for dette er å bruke tre antagelser(og ingen av antagelsene er faktisk sanne!) for å få et forenklet utrykk av atmosfæren. Disse antagelsene er:\n",
    "1. Atmosfæren har en konstant temperatur - dvs. at atmosfæren er en stor blokk hvor hele blokken harden samme temperaturen.\n",
    "2. Atmosfæren er fullstendig gjennomsiktig for stråling fra solen - dvs.  at all stråling fra solen trefferjordoverflaten.\n",
    "3. Atmosfæren tar imot all stråling fra jorden.I figuren nedenfor er situasjonen tegnet.  Atmosfæren er en tenkt blokk som vist i grå farge.  Strålingenfra solen går rett igjennom atmosfæren og treffer jordoverflaten (1). Jordkloden sender ut varmestråling ogall strålingen treffer atmosfæren (3). Situasjonen til atmosfæren vil da være at den sender ut stråling til verdensrommet, men også stråling tilbake til jorden (2). Stefan-Boltzmanns lov vil gjelde for både jordklodenog atmosfæren.\n",
    "\n",
    "\n",
    "### Modell/oppgave 1\n",
    "Vi starter med en temparaturmodell der vi kun ser på mengden varmestråling som treffer jorda fra sola. Formelen for å kalkulere mengden energi som treffer toppen av atmosfæren ($S_0$) er: \n",
    "\n",
    "$$S_0 = \\large\\frac{{radius_{sol}}^2}{{distanse_{jord\\space sol}}^2} \\cdot stråling\\space sol$$ \n",
    "\n",
    "Here er $S_0$ mengde stråling som treffer jorda fra sola, og $distanse_{jord \\space sol}$ er avstanden mellom sola og jorda. Stråling sol er mengden stråling sola sender ut i alle retninger. Vi får svaret i W/m^2\n",
    "\n",
    "\n",
    "### Modell/oppgave 2\n",
    "\n",
    "Vi kan utvide modellen vår til å regne ut temperaturen som vil oppstå på jorda, gitt energiprinsippet og Stefan-Boltzmanns lov.\n",
    "\n",
    "###### (1) Energi inn i systemet\n",
    "Her legger vi inn resultatet $s_0$ som solkonstanten. Albedo er målet for refleksjonen til en flate, og og må med siden noe av sollyset vil bli reflekert av jorda.\n",
    "\n",
    "$$ E_{absorbert} = solkonstanten \\cdot (1 - albedo) \\cdot \\pi r_{jorda}^2 $$\n",
    "\n",
    "\n",
    "##### (2) Energi ut av systemet\n",
    "\n",
    "Stefan-Boltzmann loven: Hvor mye energi som blir sendt ut fra overfalten til et legeme per flatenhet og tidsenhet i form av varmestråling. $\\phi=\\sigma T^4$\n",
    "\n",
    "$$E_{emittert} = \\sigma T_{jorda}^4 \\cdot 4\\pi R_{jorda}^2$$\n",
    "\n",
    "Her bruker vi S-B lov til å regne ut hvor mye energi jorda vil sende ut, gitt en viss temperatur T. \n",
    "\n",
    "##### Energi inn = Energi ut\n",
    "\n",
    "\n",
    "På grunn av energiprinsippet, loven om at energi er konstant, må energi inn på planeten være det samme som energi ut.\n",
    "\n",
    "$$ E_{absorbert}= E_{emittert}$$\n",
    "\n",
    "$$ solkonstanten \\cdot (1 - albedo) \\cdot \\pi R_{jorda}^2 = \\sigma T_{jorda}^4 \\cdot 4\\pi R_{jorda}^2$$\n",
    "\n",
    "$$T_{jorda} = \\sqrt[4]{\\frac{solkonstanten\\cdot(1-albedo)}{4\\sigma}}$$\n",
    "\n",
    "Temperaturen vi får er i kelvin, og vi må trekke fra 273.15 for å få celcius.\n",
    "\n",
    "\n",
    "### Modell/oppgave 3\n",
    "\n",
    "###### Energi inn jorda fra sola = Energi ut i verdensrommet fra atmosfæren\n",
    "Vi legger deretter til atmosfære i modellen vår, som et ledd som tar imot og sender ut varmestråling.\n",
    "\n",
    "Vi får tre formler som vi setter sammen til modellen vår:\n",
    "\n",
    "$$ (1)  Stråling_{sol-jord} = Stråling_{atmosfæren \\space ut \\space verdensrommet} = \\frac {Stråling_{atmosfæren}}{2} $$\n",
    "\n",
    "$$ (2)  Stråling_{fra\\space jorda\\space på\\space atmosfæren} = Stråling_{ atmosfæren} $$\n",
    "\n",
    "$$ (3)  Stråling_{inn\\space jord} = Stråling_{sol-jord} + \\frac {Stråling_{atmosfære}}{2}  $$\n",
    "\n",
    "Da setter vi formel (1) inn i (3) og vi får formelen formelen: \n",
    "\n",
    "$$ Stråling_{inn\\space jord} = {2*Stråling_{sol-jord}}  $$\n",
    "\n",
    "og pga energiprinsippet kan vi regne med at $ Stråling_{inn\\space jord} = Stråling_{ut \\space jord} = \\sigma T^4_{jorda} $\n",
    "\n",
    "\n",
    "og temperaturen på jorda er da: \n",
    "\n",
    "$$ T_{jorda} = (\\frac{2*Stråling_{sol-jord}}{\\sigma})^{\\frac{1}{4}}  $$\n",
    "\n",
    "hvor $ Stråling_{sol-jord} = solkonstanten \\cdot (1-albedo) $\n",
    "\n",
    "Svaret vi får er i kelvin. \n",
    "\n",
    "For å legge inn en forenkling for natt og dag syklusen kan man dele $ 2*stråling_{sol-jord} $ på 4. \n",
    "\n",
    "### Modell 4\n",
    "\n",
    "Vi legger til at atmosfæren absorberer 20 % av solinnstrålingen. hvis vi legger dette inn i Modell 3 med natt og dag syklkus får vi:\n",
    " \n",
    "$$ T_{jorda} = (\\frac{1.8*Stråling_{sol-jord}}{\\sigma})^{\\frac{1}{4}}  $$ \n",
    "\n",
    "Vi kommer frem til dette med stegene fra forrige oppgave, bare at vi tenker oss at atmosfæren absorberer 20% av strålingen på vei ned til jorda, og deretter sender ut halvparten av dette ned til jorda. Jord vil da sende opp igjen noe lik 90% av solinnstrålingen. \n",
    "\n",
    "$$ Stråling_{inn\\space jord} = Stråling_{sol-jord}*(0.80) + Stråling_{sol-jord} = Stråling_{sol-jord}*1.8$$\n",
    " \n",
    "Svaret vi får er i kelvin. \n",
    "\n",
    "\n",
    "### Modell 5\n",
    "Jeg skal prøve å modellere temperaturen på ekvator som en funksjon av distansen mellom Jorda og Sola. \n",
    "Til dette bruker jeg keplers lover om at jorda beveger seg i elippse rundt jorda. \n",
    "\n",
    "$$ Distanse_{sol-jord} = \\frac{a*(1-e^2)}{1-e*cos( \\Theta )} $$\n",
    " hvor a = 1,496*10^8 og e = 1,67*10^(-2)\n",
    " \n",
    " $ \\Theta = \\frac {2 \\pi * n}{365} $\n",
    " \n",
    " hvor n er dager etter 1. januar. "
   ]
  },
  {
   "cell_type": "markdown",
   "metadata": {},
   "source": [
    "## Resultat\n",
    "Jeg tar hver modell for seg selv. "
   ]
  },
  {
   "cell_type": "markdown",
   "metadata": {},
   "source": [
    "### Modell/Oppgave 1: "
   ]
  },
  {
   "cell_type": "code",
   "execution_count": 2,
   "metadata": {},
   "outputs": [
    {
     "name": "stdout",
     "output_type": "stream",
     "text": [
      "Varmestrålingen s_0 fra Sola på Jorda er: 1365.92 W/m^2\n"
     ]
    }
   ],
   "source": [
    "from pylab import *\n",
    "\n",
    "#Konstanter\n",
    "sigma = 5.67*1e-08              #Stefan-Boltzmans konstant  [W/m^2 K^4]\n",
    "T_sol = 5778                    #Temperaturen til sola i Kelvin\n",
    "r_sol = 6.955*1e08              #Radiusen til sola i meter\n",
    "distanse_sol_jord = 1.496*1e11  #Gjennomsnittsavstand fra Jorda til Sola i meter\n",
    "\n",
    "def S_B_lov(temp):              #Stefan Boltzmanns lov\n",
    "    return sigma*temp**4\n",
    "\n",
    "def varmestråling(Stråling,distanse,radius):   # Formel for gjennomsnittlig elektromagnetisk stråling som treffer planet\n",
    "    return (Stråling*radius**2)/distanse**2\n",
    "\n",
    "stråling_sol = S_B_lov(T_sol)\n",
    "solkonstanten = varmestråling(stråling_sol,distanse_sol_jord,r_sol)\n",
    "\n",
    "print(\"Varmestrålingen s_0 fra Sola på Jorda er:\", round(solkonstanten,2), \"W/m^2\")"
   ]
  },
  {
   "cell_type": "markdown",
   "metadata": {},
   "source": [
    "### Modell/Oppgave 2: "
   ]
  },
  {
   "cell_type": "code",
   "execution_count": 3,
   "metadata": {},
   "outputs": [
    {
     "name": "stdout",
     "output_type": "stream",
     "text": [
      "Beregningen av gjennomsnittstemperaturen gir en temperatur på:  -18.34  grader celsius\n"
     ]
    }
   ],
   "source": [
    "r_jorda = 6.371e6   #Radius jorda\n",
    "albedo = 0.3        #Refleksjonskonstanten til Jorda\n",
    "\n",
    "def kelvin_celcius(kelvin):   #Omgjøring av kelvin til celcius ved å trekke fra 273.15\n",
    "    return kelvin-273.15\n",
    "\n",
    "tempjorda_kelvin = ((solkonstanten*(1-albedo))/(4*sigma))**(1/4)  #Temperaturen på Jorda i kelvin\n",
    "\n",
    "print (\"Beregningen av gjennomsnittstemperaturen gir en temperatur på: \",\n",
    "       round(kelvin_celcius(tempjorda_kelvin),2),\" grader celsius\")"
   ]
  },
  {
   "cell_type": "markdown",
   "metadata": {},
   "source": [
    "### Modell/oppgave 3: "
   ]
  },
  {
   "cell_type": "code",
   "execution_count": 4,
   "metadata": {},
   "outputs": [
    {
     "name": "stdout",
     "output_type": "stream",
     "text": [
      "Temperaturen på Jorda med Atmosfære (uten natt og dag synklus) er:  155.39  grader celsius\n",
      "Temperaturen på Jorda med Atmosfære (med natt og dag synklus) er:  29.87  grader celsius\n"
     ]
    }
   ],
   "source": [
    "Ny_tempjorda_kelvin = (2*solkonstanten*(1-albedo)/sigma)**(1/4)  #Temperaturen på jorda i Kelvin\n",
    "temp_dagnatt = (2*solkonstanten*(1-albedo)/(sigma*4))**(1/4)  #Temperaturen på jorda i Kelvin gitt natt og dag syklus\n",
    "\n",
    "print(\"Temperaturen på Jorda med Atmosfære (uten natt og dag synklus) er: \",\n",
    "      round(kelvin_celcius(Ny_tempjorda_kelvin),2), \" grader celsius\")\n",
    "print(\"Temperaturen på Jorda med Atmosfære (med natt og dag synklus) er: \",\n",
    "      round(kelvin_celcius(temp_dagnatt),2), \" grader celsius\")"
   ]
  },
  {
   "cell_type": "markdown",
   "metadata": {},
   "source": [
    "### Modell/Oppgave 4"
   ]
  },
  {
   "cell_type": "code",
   "execution_count": 5,
   "metadata": {},
   "outputs": [
    {
     "name": "stdout",
     "output_type": "stream",
     "text": [
      "Temperaturen på Jorda med Atmosfære (med natt og dag synklus) er:  22.0  grader celsius\n"
     ]
    }
   ],
   "source": [
    "temp_dagnatt = (1.8*solkonstanten*(1-albedo)/(sigma*4))**(1/4)  #Temperaturen på jorda i Kelvin etter at atmosfæren absorberer 20% av solinnstrålingen\n",
    "\n",
    "print(\"Temperaturen på Jorda med Atmosfære (med natt og dag synklus) er: \",\n",
    "      round(kelvin_celcius(temp_dagnatt),2), \" grader celsius\")"
   ]
  },
  {
   "cell_type": "markdown",
   "metadata": {},
   "source": [
    "### Modell 5\n",
    "Modellere temperaturen på et punkt gjennom et helt år, gitt ulik avstand. "
   ]
  },
  {
   "cell_type": "code",
   "execution_count": 6,
   "metadata": {},
   "outputs": [
    {
     "data": {
      "image/png": "[encoded data removed]",
      "text/plain": [
       "<Figure size 432x288 with 1 Axes>"
      ]
     },
     "metadata": {
      "needs_background": "light"
     },
     "output_type": "display_data"
    },
    {
     "data": {
      "image/png": "[encoded data removed]",
      "text/plain": [
       "<Figure size 432x288 with 1 Axes>"
      ]
     },
     "metadata": {
      "needs_background": "light"
     },
     "output_type": "display_data"
    }
   ],
   "source": [
    "# Konstanter\n",
    "a = 1.496*10**11   #I meter, avstanden fra sola til \"midten\" av ellipsen \n",
    "e = 1.67*10**(-2)  # En konstant funnet for formelen\n",
    "\n",
    "\n",
    "# Lister\n",
    "distanse = []\n",
    "solinnstråling = []\n",
    "temperatur = []\n",
    "tid = []\n",
    "\n",
    "def distanse_sol_jord(theta):       # Keplers 1. lov om at JOrda beveger seg i en elipse rundt jorda. Du får svaret i meter\n",
    "    return (a*(1-e**2)/(1-e*cos(theta)))\n",
    "\n",
    "def temp_formel(solstråling):   # Formel fra modell 4, som gir deg temperaturen i celcius, gitt solinnstrålingen på jorda. \n",
    "    return kelvin_celcius((1.8*solstråling*(1-albedo)/(sigma*4))**(1/4))\n",
    "\n",
    "for n in range(365):    #N går opp til 365 som er dager i løpet av ett år. \n",
    "    theta = 2*pi*n/365    #Formelen for theta i keplers lov. \n",
    "    \n",
    "    avstand = distanse_sol_jord(theta)   \n",
    "    stråling = varmestråling(stråling_sol,avstand,r_sol)    # Bruker formel fra modell 1\n",
    "    \n",
    "    #Legger inn verdier i listene\n",
    "    distanse.append(avstand)\n",
    "    solinnstråling.append(stråling)    #Denne listen er med for å ha muligheten til å se sammenhengen mellom solinnstråling og temperatur. \n",
    "    temperatur.append(temp_formel(stråling))\n",
    "    tid.append(n)\n",
    "\n",
    "    \n",
    "plot(tid, distanse, label = \"Distanse\")\n",
    "xlabel('Antall dager etter 1. januar')\n",
    "ylabel('Avstand fra sola (meter)')\n",
    "legend()  #Viser merkelapper\n",
    "show()\n",
    "\n",
    "\n",
    "plot(tid,temperatur, \"red\", label=\"Temperatur\" )\n",
    "xlabel('Antall dager etter 1. januar')\n",
    "ylabel('Temperatur (celcius)')\n",
    "legend()\n",
    "show()"
   ]
  },
  {
   "cell_type": "markdown",
   "metadata": {},
   "source": [
    "### 4. Diskusjon\n",
    "\n",
    "##### Modell 1\n",
    "\n",
    "Modellen viser oss at den gjennomsnittlige strålingen som treffer jorda, er avhengig av radiusen til sola, distansen mellom sola og jorda, og hvor mye stråling sola sender ut.\n",
    "Det er en ganske logisk formel, ved at den stemmer med det du intutivt tenker. Som at dersom distansen synker eller radiusen til sola øker, treffer mer stråling på jorda.\n",
    "\n",
    "Modellen forutsetter altså at det ikke kommer inn noe annen stråling på jorda, og at strålingen fra sola er konstant. Den forutsetter også at distanden mellom sola og jorda er konstant, altså at banen rundt sola er en perfekt sirkel noe den ikke er (den er eliptisk). Den fungerer derfor som en god gjennomsnittsmodell, ved at man bruker gjennomsnitts-distansen og stråling. \n",
    "\n",
    "##### Modell 2\n",
    "\n",
    "I denne modellen finner vi gjennomsnittlig temperaturen på jorda, og legger til en refleksjonskonstant. Vi tar ikke med atmosfære, og svaret vi får er derfor en del lavere enn målt. I tillegg forutsetter vi at temperaturen er konstant, at refleksjonen av varmestråling er konstant og at planeten er en flat sirkel.\n",
    "\n",
    "Dette kan vi gjøre fordi sett fra sola perspektiv vil jorda se ut som en flat sirkel, og strålingen fra sola (fra solas perspektiv) vil også treffe en geometrisk form lik en flat sirkel. En annen måte å forklare det på, er at jorda som en kule kun vil ta imot stråling på den ene halvdelen om gangen, men det vil komme stråling over hele denne ene halvsiden. Hvis du da kutter jorda i to, ser du at området som strålingen fra sola treffer, utgjør like mye som arealet av en flat sirkel. \n",
    "\n",
    "Gjennomsnittlig temperatur mål på jorda er +15◦C, og vi fikk ut -18◦C. Dette er en del lavere, men det kan tenkes at dette kunne vært realistisk uten en atmosfære. Modellen er derfor ikke optimal for å brukes til å beregne og forutsi faktsike temperaturer på jorda. \n",
    "\n",
    "\n",
    "Vi finner den temperaturen som gjør at temperaturen på jorda vil være konstant, altså verken synke eller øke. Dersom temperaturen blir høyere, vil den sende ut mer energi enn den får inn, og temperaturen vil synke. Og motsatt hvis den synker. Derfor kan vi anta at temperaturen er konstant. \n",
    "\n",
    "\n",
    "##### Modell 3\n",
    "I modell 3 har vi lagt inn en forenklet modell av atmosfæren, som et ledd i utregningen. Vi har ellers samme forutsetninger som i modell 2. Med atmosfære får vi en beregnet temperatur til 155◦C. Dette er altså mye høyere enn målt temperatur. Ved å dermed ta med i beregningen natt og dag syklus i beregningen får vi 30◦C, noe som er mer akseptabelt. Med tanke på at vi regner med jorda som en flat sirkel, vil det være som at hele planeten får inn like mye stråling som på ekvator. Hvis man sammenligner 30◦C på modellen med gjennomsnittstemperaturen på ekvator, ca. 25◦C, ser vi at denne modellen fungerer svært bra.   \n",
    "Modellen forutsetter også at atmosfæren slipper gjennom all strålingen fra sola på jorda, og at den absorberer all strålingen fra jorda. I tillegg at den har konstant temperatur. \n",
    "\n",
    "I atmosfæren har vi gjort en del forenklinger, som gjør at modellen blir begrenset. Vi behandler atmosfæren som et samlet legemet med konstant temperatur. Vi kan bruke den som en forenkling modell av et stort system, men ikke til konkrete beregninger eller på visse punkter på jordkloden. \n",
    "\n",
    "Vi regner med at strålingen ut i verdensrommet fra atmosfæren må være lik 1/2 av strålingen fra jorda på atmosfæren. Strålingen fra jorda på atmosfæren må være lik strålingen fra sola + strålingen fra atmosfæren. Fordi Energi inn = Energi ut, kan vi anta at strålingen ut av atmosfæren til verdensrommet er like stor som strålingen fra Sola på jorda.\n",
    "\n",
    "\n",
    "#### Modell 4:\n",
    "\n",
    "I modell 4 gjør vi for det meste det samme som i modell 3, bar at vi antar at atmosfæren absorberer 20 % av strålingen fra sola på jorda. Vi har ellers de samme forutsetningene som i modell 3. \n",
    "\n",
    "Vi får 22.0 grader C som resultat, noe som nærmer seg gjennomsnittet på jorda som er 15◦C. Fordi dette er en modell som baserer seg på at jorda er flat, ville den teoretiske gjennomsnittstemperaturen vært høyere enn dette, siden det er mindre volum og areal at varmen kan fordele seg på. \n",
    "\n",
    "#### Modell 5 \n",
    "\n",
    "I modell 5 bruker vi teorien fra modell 4, og legger til Keplers lover om gravitasjon og elipsebaner. Ut ifra denne klarer vi å modellere en bane jorda vil ha rundt sola, og dermed distansen som en funksjon av tiden. Denne modellen forutsetter det samme som de tidligere modellene, i tillegg til at jorda beveger seg i en ellipse med sola i det ene brennpunktet. Den er begrenset til gjennomsnittstemperatur på en dag, og ikke mulig å se på individuelle timer. \n",
    "\n",
    "Resultatet av modellen er slik man kan forvente seg. Det er kaldest midt på vinteren, i januar, og blir gradvis varmere frem mot sommeren. Temperaturen når topppunktet sitt etter ca. 180 dager, altså i Juni. Distansen er motsatt proposjonal av temperaturen, og de oppfører seg også slik man kan forvente. Når distansen mellom sola og jorda er stor, som i starten av året, er temperaturen lav. \n",
    "\n",
    "Gjennomsnittstemperatur rundt ekvator er til sammenligning mellom 16 og 25◦C, noe som passer veldig godt med modellen. "
   ]
  },
  {
   "cell_type": "markdown",
   "metadata": {},
   "source": [
    "### 5. Konklusjon\n",
    "\n",
    "Vi har modellert ulike forløp for temperaturen på jorda ved hjelp av 4 modeller med ulik kompleksitet. Modellene er validert ved bruk av ulike naturlover og sammenlignet med målt gjennomsnittstemperatur. \n",
    "\n",
    "Vi kan fortsette å utvide modellen vår ved å innføre en del for vinklingen på jorda, mer realistisk atmosfære og mye mer. Men som en generell modell for temperaturendring kom vi oss nærme gjennomsnittstemperaturen\n"
   ]
  },
  {
   "cell_type": "code",
   "execution_count": null,
   "metadata": {},
   "outputs": [],
   "source": []
  }
 ],
 "metadata": {
  "kernelspec": {
   "display_name": "Python 3",
   "language": "python",
   "name": "python3"
  },
  "language_info": {
   "codemirror_mode": {
    "name": "ipython",
    "version": 3
   },
   "file_extension": ".py",
   "mimetype": "text/x-python",
   "name": "python",
   "nbconvert_exporter": "python",
   "pygments_lexer": "ipython3",
   "version": "3.8.3"
  }
 },
 "nbformat": 4,
 "nbformat_minor": 4
}
